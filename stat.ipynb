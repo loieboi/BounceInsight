{
 "cells": [
  {
   "cell_type": "code",
   "id": "initial_id",
   "metadata": {
    "ExecuteTime": {
     "end_time": "2024-08-01T21:07:48.605413Z",
     "start_time": "2024-08-01T21:07:46.366750Z"
    }
   },
   "source": [
    "# This script is used to run the detection script in the BounceInsight module.\n",
    "import sys\n",
    "import os\n",
    "current_dir = os.path.dirname(os.path.abspath('__file__'))\n",
    "print(f'Current Directory: {current_dir}')\n",
    "root_dir = os.path.abspath(os.path.join(current_dir, '..'))\n",
    "\n",
    "if os.path.exists(root_dir):\n",
    "    print(f'Root Directory exists: {root_dir}')\n",
    "else:\n",
    "    print(f'Root Directory does NOT exist: {root_dir}')\n",
    "    \n",
    "\n",
    "if root_dir not in sys.path:\n",
    "    sys.path.append(root_dir)\n",
    "    \n",
    "try:\n",
    "    from BounceInsight import BounceInsight\n",
    "    print(\"Successfully imported BounceInsight\")\n",
    "except ModuleNotFoundError as e:\n",
    "    print(f\"BounceInsight module not found. Please check the module path. {e}\")\n",
    "except Exception as e:\n",
    "    print(f\"An unexpected error occurred: {e}\")\n",
    "    \n",
    "try:\n",
    "    %reload_ext autoreload\n",
    "except:\n",
    "    %load_ext autoreload\n",
    "\n",
    "%autoreload 2\n",
    "    \n",
    "csv_path = os.path.abspath(os.path.join(current_dir, 'files/loader'))\n",
    "insight = BounceInsight(csv_path, \"bounce\")"
   ],
   "outputs": [
    {
     "name": "stdout",
     "output_type": "stream",
     "text": [
      "Current Directory: C:\\Users\\timos\\Desktop\\BounceInsight\n",
      "Root Directory exists: C:\\Users\\timos\\Desktop\n",
      "Successfully imported BounceInsight\n"
     ]
    }
   ],
   "execution_count": 1
  },
  {
   "cell_type": "code",
   "id": "3486db63861c59ba",
   "metadata": {
    "ExecuteTime": {
     "end_time": "2024-08-01T21:07:51.706639Z",
     "start_time": "2024-08-01T21:07:50.408613Z"
    }
   },
   "source": [
    "insight.run_statistics(analysis_type='ttest', metric='t_ecc', comparison_type='b_nb_slow', df_type='gym')"
   ],
   "outputs": [
    {
     "name": "stdout",
     "output_type": "stream",
     "text": [
      "Levene's test for homogeneity of variances: W=0.043, p-value=0.835\n",
      "Shapiro-Wilk test for normality (slowb): W=0.985, p-value=0.442\n",
      "Shapiro-Wilk test for normality (slownb): W=0.981, p-value=0.238\n"
     ]
    },
    {
     "ename": "ValueError",
     "evalue": "unequal length arrays",
     "output_type": "error",
     "traceback": [
      "\u001B[1;31m---------------------------------------------------------------------------\u001B[0m",
      "\u001B[1;31mValueError\u001B[0m                                Traceback (most recent call last)",
      "\u001B[1;32m~\\AppData\\Local\\Temp\\ipykernel_8592\\535585633.py\u001B[0m in \u001B[0;36m?\u001B[1;34m()\u001B[0m\n\u001B[1;32m----> 1\u001B[1;33m \u001B[0minsight\u001B[0m\u001B[1;33m.\u001B[0m\u001B[0mrun_statistics\u001B[0m\u001B[1;33m(\u001B[0m\u001B[0manalysis_type\u001B[0m\u001B[1;33m=\u001B[0m\u001B[1;34m'ttest'\u001B[0m\u001B[1;33m,\u001B[0m \u001B[0mmetric\u001B[0m\u001B[1;33m=\u001B[0m\u001B[1;34m't_ecc'\u001B[0m\u001B[1;33m,\u001B[0m \u001B[0mcomparison_type\u001B[0m\u001B[1;33m=\u001B[0m\u001B[1;34m'b_nb_slow'\u001B[0m\u001B[1;33m,\u001B[0m \u001B[0mdf_type\u001B[0m\u001B[1;33m=\u001B[0m\u001B[1;34m'gym'\u001B[0m\u001B[1;33m)\u001B[0m\u001B[1;33m\u001B[0m\u001B[1;33m\u001B[0m\u001B[0m\n\u001B[0m",
      "\u001B[1;32m~\\Desktop\\BounceInsight\\__init__.py\u001B[0m in \u001B[0;36m?\u001B[1;34m(self, analysis_type, comparison_type, metric, metric1, metric2, bounce_type, df_type)\u001B[0m\n\u001B[0;32m    110\u001B[0m             \u001B[0mstat_analyser\u001B[0m\u001B[1;33m.\u001B[0m\u001B[0manalyze_statistics\u001B[0m\u001B[1;33m(\u001B[0m\u001B[0manalysis_type\u001B[0m\u001B[1;33m=\u001B[0m\u001B[0manalysis_type\u001B[0m\u001B[1;33m,\u001B[0m \u001B[0mmetric1\u001B[0m\u001B[1;33m=\u001B[0m\u001B[0mmetric1\u001B[0m\u001B[1;33m,\u001B[0m \u001B[0mmetric2\u001B[0m\u001B[1;33m=\u001B[0m\u001B[0mmetric2\u001B[0m\u001B[1;33m)\u001B[0m\u001B[1;33m\u001B[0m\u001B[1;33m\u001B[0m\u001B[0m\n\u001B[0;32m    111\u001B[0m         \u001B[1;32melif\u001B[0m \u001B[0manalysis_type\u001B[0m \u001B[1;33m==\u001B[0m \u001B[1;34m'summary'\u001B[0m\u001B[1;33m:\u001B[0m\u001B[1;33m\u001B[0m\u001B[1;33m\u001B[0m\u001B[0m\n\u001B[0;32m    112\u001B[0m             \u001B[0mstat_analyser\u001B[0m\u001B[1;33m.\u001B[0m\u001B[0manalyze_statistics\u001B[0m\u001B[1;33m(\u001B[0m\u001B[0manalysis_type\u001B[0m\u001B[1;33m=\u001B[0m\u001B[0manalysis_type\u001B[0m\u001B[1;33m,\u001B[0m \u001B[0mbounce_type\u001B[0m\u001B[1;33m=\u001B[0m\u001B[0mbounce_type\u001B[0m\u001B[1;33m)\u001B[0m\u001B[1;33m\u001B[0m\u001B[1;33m\u001B[0m\u001B[0m\n\u001B[0;32m    113\u001B[0m         \u001B[1;32melif\u001B[0m \u001B[0manalysis_type\u001B[0m \u001B[1;33m==\u001B[0m \u001B[1;34m'ttest'\u001B[0m\u001B[1;33m:\u001B[0m\u001B[1;33m\u001B[0m\u001B[1;33m\u001B[0m\u001B[0m\n\u001B[1;32m--> 114\u001B[1;33m             stat_analyser.analyze_statistics(analysis_type=analysis_type, metric=metric,\n\u001B[0m\u001B[0;32m    115\u001B[0m                                              \u001B[0mcomparison_type\u001B[0m\u001B[1;33m=\u001B[0m\u001B[0mcomparison_type\u001B[0m\u001B[1;33m,\u001B[0m \u001B[0mdf_type\u001B[0m\u001B[1;33m=\u001B[0m\u001B[0mdf_type\u001B[0m\u001B[1;33m)\u001B[0m\u001B[1;33m\u001B[0m\u001B[1;33m\u001B[0m\u001B[0m\n\u001B[0;32m    116\u001B[0m         \u001B[1;32melse\u001B[0m\u001B[1;33m:\u001B[0m\u001B[1;33m\u001B[0m\u001B[1;33m\u001B[0m\u001B[0m\n\u001B[0;32m    117\u001B[0m             \u001B[0mstat_analyser\u001B[0m\u001B[1;33m.\u001B[0m\u001B[0manalyze_statistics\u001B[0m\u001B[1;33m(\u001B[0m\u001B[0manalysis_type\u001B[0m\u001B[1;33m=\u001B[0m\u001B[0manalysis_type\u001B[0m\u001B[1;33m)\u001B[0m\u001B[1;33m\u001B[0m\u001B[1;33m\u001B[0m\u001B[0m\n",
      "\u001B[1;32m~\\Desktop\\BounceInsight\\analyser\\stat_bounce_analyser.py\u001B[0m in \u001B[0;36m?\u001B[1;34m(self, analysis_type, comparison_type, metric, metric1, metric2, bounce_type, df_type)\u001B[0m\n\u001B[0;32m     61\u001B[0m             \u001B[1;32melse\u001B[0m\u001B[1;33m:\u001B[0m\u001B[1;33m\u001B[0m\u001B[1;33m\u001B[0m\u001B[0m\n\u001B[0;32m     62\u001B[0m                 \u001B[0mprint\u001B[0m\u001B[1;33m(\u001B[0m\u001B[1;34m\"For repeated measures ANOVA, please specify the metric.\"\u001B[0m\u001B[1;33m)\u001B[0m\u001B[1;33m\u001B[0m\u001B[1;33m\u001B[0m\u001B[0m\n\u001B[0;32m     63\u001B[0m         \u001B[1;32melif\u001B[0m \u001B[0manalysis_type\u001B[0m \u001B[1;33m==\u001B[0m \u001B[1;34m'ttest'\u001B[0m\u001B[1;33m:\u001B[0m\u001B[1;33m\u001B[0m\u001B[1;33m\u001B[0m\u001B[0m\n\u001B[0;32m     64\u001B[0m             \u001B[1;32mif\u001B[0m \u001B[0mmetric\u001B[0m \u001B[1;32mand\u001B[0m \u001B[0mcomparison_type\u001B[0m \u001B[1;32mand\u001B[0m \u001B[0mdf_type\u001B[0m \u001B[1;33m==\u001B[0m \u001B[1;34m'gym'\u001B[0m\u001B[1;33m:\u001B[0m\u001B[1;33m\u001B[0m\u001B[1;33m\u001B[0m\u001B[0m\n\u001B[1;32m---> 65\u001B[1;33m                 \u001B[0mself\u001B[0m\u001B[1;33m.\u001B[0m\u001B[0mpaired_ttest\u001B[0m\u001B[1;33m(\u001B[0m\u001B[0mdf_gym\u001B[0m\u001B[1;33m,\u001B[0m \u001B[0mmetric\u001B[0m\u001B[1;33m,\u001B[0m \u001B[0mcomparison_type\u001B[0m\u001B[1;33m)\u001B[0m\u001B[1;33m\u001B[0m\u001B[1;33m\u001B[0m\u001B[0m\n\u001B[0m\u001B[0;32m     66\u001B[0m             \u001B[1;32melif\u001B[0m \u001B[0mmetric\u001B[0m \u001B[1;32mand\u001B[0m \u001B[0mcomparison_type\u001B[0m \u001B[1;32mand\u001B[0m \u001B[0mdf_type\u001B[0m \u001B[1;33m==\u001B[0m \u001B[1;34m'fp'\u001B[0m\u001B[1;33m:\u001B[0m\u001B[1;33m\u001B[0m\u001B[1;33m\u001B[0m\u001B[0m\n\u001B[0;32m     67\u001B[0m                 \u001B[0mself\u001B[0m\u001B[1;33m.\u001B[0m\u001B[0mpaired_ttest\u001B[0m\u001B[1;33m(\u001B[0m\u001B[0mdf_fp\u001B[0m\u001B[1;33m,\u001B[0m \u001B[0mmetric\u001B[0m\u001B[1;33m,\u001B[0m \u001B[0mcomparison_type\u001B[0m\u001B[1;33m)\u001B[0m\u001B[1;33m\u001B[0m\u001B[1;33m\u001B[0m\u001B[0m\n\u001B[0;32m     68\u001B[0m             \u001B[1;32melse\u001B[0m\u001B[1;33m:\u001B[0m\u001B[1;33m\u001B[0m\u001B[1;33m\u001B[0m\u001B[0m\n",
      "\u001B[1;32m~\\Desktop\\BounceInsight\\analyser\\stat_bounce_analyser.py\u001B[0m in \u001B[0;36m?\u001B[1;34m(self, df, metric, comparison_type)\u001B[0m\n\u001B[0;32m    487\u001B[0m         \u001B[0mhomogeneity_passed\u001B[0m \u001B[1;33m=\u001B[0m \u001B[0mself\u001B[0m\u001B[1;33m.\u001B[0m\u001B[0mcheck_homogeneity\u001B[0m\u001B[1;33m(\u001B[0m\u001B[0mdf_filtered\u001B[0m\u001B[1;33m,\u001B[0m \u001B[0mmetric\u001B[0m\u001B[1;33m)\u001B[0m\u001B[1;33m\u001B[0m\u001B[1;33m\u001B[0m\u001B[0m\n\u001B[0;32m    488\u001B[0m         \u001B[0mnormality_passed\u001B[0m \u001B[1;33m=\u001B[0m \u001B[0mself\u001B[0m\u001B[1;33m.\u001B[0m\u001B[0mcheck_normality\u001B[0m\u001B[1;33m(\u001B[0m\u001B[0mdf_filtered\u001B[0m\u001B[1;33m,\u001B[0m \u001B[0mmetric\u001B[0m\u001B[1;33m)\u001B[0m\u001B[1;33m\u001B[0m\u001B[1;33m\u001B[0m\u001B[0m\n\u001B[0;32m    489\u001B[0m \u001B[1;33m\u001B[0m\u001B[0m\n\u001B[0;32m    490\u001B[0m         \u001B[1;32mif\u001B[0m \u001B[0mhomogeneity_passed\u001B[0m \u001B[1;32mand\u001B[0m \u001B[0mnormality_passed\u001B[0m\u001B[1;33m:\u001B[0m\u001B[1;33m\u001B[0m\u001B[1;33m\u001B[0m\u001B[0m\n\u001B[1;32m--> 491\u001B[1;33m             t_stat, p_value = stats.ttest_rel(df_filtered[df_filtered['group'] == group1][metric],\n\u001B[0m\u001B[0;32m    492\u001B[0m                                               \u001B[0mdf_filtered\u001B[0m\u001B[1;33m[\u001B[0m\u001B[0mdf_filtered\u001B[0m\u001B[1;33m[\u001B[0m\u001B[1;34m'group'\u001B[0m\u001B[1;33m]\u001B[0m \u001B[1;33m==\u001B[0m \u001B[0mgroup2\u001B[0m\u001B[1;33m]\u001B[0m\u001B[1;33m[\u001B[0m\u001B[0mmetric\u001B[0m\u001B[1;33m]\u001B[0m\u001B[1;33m)\u001B[0m\u001B[1;33m\u001B[0m\u001B[1;33m\u001B[0m\u001B[0m\n\u001B[0;32m    493\u001B[0m             \u001B[0mprint\u001B[0m\u001B[1;33m(\u001B[0m\u001B[1;33mf\"\u001B[0m\u001B[1;33mPaired t-test results for \u001B[0m\u001B[1;33m{\u001B[0m\u001B[0mmetric\u001B[0m\u001B[1;33m}\u001B[0m\u001B[1;33m comparing \u001B[0m\u001B[1;33m{\u001B[0m\u001B[0mgroup1\u001B[0m\u001B[1;33m}\u001B[0m\u001B[1;33m and \u001B[0m\u001B[1;33m{\u001B[0m\u001B[0mgroup2\u001B[0m\u001B[1;33m}\u001B[0m\u001B[1;33m:\u001B[0m\u001B[1;33m\"\u001B[0m\u001B[1;33m)\u001B[0m\u001B[1;33m\u001B[0m\u001B[1;33m\u001B[0m\u001B[0m\n\u001B[0;32m    494\u001B[0m             \u001B[0mprint\u001B[0m\u001B[1;33m(\u001B[0m\u001B[1;33mf\"\u001B[0m\u001B[1;33mT-statistic: \u001B[0m\u001B[1;33m{\u001B[0m\u001B[0mt_stat\u001B[0m\u001B[1;33m:\u001B[0m\u001B[1;33m.4f\u001B[0m\u001B[1;33m}\u001B[0m\u001B[1;33m, p-value: \u001B[0m\u001B[1;33m{\u001B[0m\u001B[0mp_value\u001B[0m\u001B[1;33m:\u001B[0m\u001B[1;33m.4f\u001B[0m\u001B[1;33m}\u001B[0m\u001B[1;33m\"\u001B[0m\u001B[1;33m)\u001B[0m\u001B[1;33m\u001B[0m\u001B[1;33m\u001B[0m\u001B[0m\n",
      "\u001B[1;32m~\\AppData\\Local\\Programs\\Python\\Python312\\Lib\\site-packages\\scipy\\stats\\_axis_nan_policy.py\u001B[0m in \u001B[0;36m?\u001B[1;34m(***failed resolving arguments***)\u001B[0m\n\u001B[0;32m    527\u001B[0m                 \u001B[1;31m# behavior of those would break backward compatibility.\u001B[0m\u001B[1;33m\u001B[0m\u001B[1;33m\u001B[0m\u001B[0m\n\u001B[0;32m    528\u001B[0m \u001B[1;33m\u001B[0m\u001B[0m\n\u001B[0;32m    529\u001B[0m                 \u001B[1;32mif\u001B[0m \u001B[0msentinel\u001B[0m\u001B[1;33m:\u001B[0m\u001B[1;33m\u001B[0m\u001B[1;33m\u001B[0m\u001B[0m\n\u001B[0;32m    530\u001B[0m                     \u001B[0msamples\u001B[0m \u001B[1;33m=\u001B[0m \u001B[0m_remove_sentinel\u001B[0m\u001B[1;33m(\u001B[0m\u001B[0msamples\u001B[0m\u001B[1;33m,\u001B[0m \u001B[0mpaired\u001B[0m\u001B[1;33m,\u001B[0m \u001B[0msentinel\u001B[0m\u001B[1;33m)\u001B[0m\u001B[1;33m\u001B[0m\u001B[1;33m\u001B[0m\u001B[0m\n\u001B[1;32m--> 531\u001B[1;33m                 \u001B[0mres\u001B[0m \u001B[1;33m=\u001B[0m \u001B[0mhypotest_fun_out\u001B[0m\u001B[1;33m(\u001B[0m\u001B[1;33m*\u001B[0m\u001B[0msamples\u001B[0m\u001B[1;33m,\u001B[0m \u001B[1;33m**\u001B[0m\u001B[0mkwds\u001B[0m\u001B[1;33m)\u001B[0m\u001B[1;33m\u001B[0m\u001B[1;33m\u001B[0m\u001B[0m\n\u001B[0m\u001B[0;32m    532\u001B[0m                 \u001B[0mres\u001B[0m \u001B[1;33m=\u001B[0m \u001B[0mresult_to_tuple\u001B[0m\u001B[1;33m(\u001B[0m\u001B[0mres\u001B[0m\u001B[1;33m)\u001B[0m\u001B[1;33m\u001B[0m\u001B[1;33m\u001B[0m\u001B[0m\n\u001B[0;32m    533\u001B[0m                 \u001B[0mres\u001B[0m \u001B[1;33m=\u001B[0m \u001B[0m_add_reduced_axes\u001B[0m\u001B[1;33m(\u001B[0m\u001B[0mres\u001B[0m\u001B[1;33m,\u001B[0m \u001B[0mreduced_axes\u001B[0m\u001B[1;33m,\u001B[0m \u001B[0mkeepdims\u001B[0m\u001B[1;33m)\u001B[0m\u001B[1;33m\u001B[0m\u001B[1;33m\u001B[0m\u001B[0m\n\u001B[0;32m    534\u001B[0m                 \u001B[1;32mreturn\u001B[0m \u001B[0mtuple_to_result\u001B[0m\u001B[1;33m(\u001B[0m\u001B[1;33m*\u001B[0m\u001B[0mres\u001B[0m\u001B[1;33m)\u001B[0m\u001B[1;33m\u001B[0m\u001B[1;33m\u001B[0m\u001B[0m\n",
      "\u001B[1;32m~\\AppData\\Local\\Programs\\Python\\Python312\\Lib\\site-packages\\scipy\\stats\\_stats_py.py\u001B[0m in \u001B[0;36m?\u001B[1;34m(a, b, axis, nan_policy, alternative)\u001B[0m\n\u001B[0;32m   7703\u001B[0m \u001B[1;33m\u001B[0m\u001B[0m\n\u001B[0;32m   7704\u001B[0m     \u001B[0mna\u001B[0m \u001B[1;33m=\u001B[0m \u001B[0m_get_len\u001B[0m\u001B[1;33m(\u001B[0m\u001B[0ma\u001B[0m\u001B[1;33m,\u001B[0m \u001B[0maxis\u001B[0m\u001B[1;33m,\u001B[0m \u001B[1;34m\"first argument\"\u001B[0m\u001B[1;33m)\u001B[0m\u001B[1;33m\u001B[0m\u001B[1;33m\u001B[0m\u001B[0m\n\u001B[0;32m   7705\u001B[0m     \u001B[0mnb\u001B[0m \u001B[1;33m=\u001B[0m \u001B[0m_get_len\u001B[0m\u001B[1;33m(\u001B[0m\u001B[0mb\u001B[0m\u001B[1;33m,\u001B[0m \u001B[0maxis\u001B[0m\u001B[1;33m,\u001B[0m \u001B[1;34m\"second argument\"\u001B[0m\u001B[1;33m)\u001B[0m\u001B[1;33m\u001B[0m\u001B[1;33m\u001B[0m\u001B[0m\n\u001B[0;32m   7706\u001B[0m     \u001B[1;32mif\u001B[0m \u001B[0mna\u001B[0m \u001B[1;33m!=\u001B[0m \u001B[0mnb\u001B[0m\u001B[1;33m:\u001B[0m\u001B[1;33m\u001B[0m\u001B[1;33m\u001B[0m\u001B[0m\n\u001B[1;32m-> 7707\u001B[1;33m         \u001B[1;32mraise\u001B[0m \u001B[0mValueError\u001B[0m\u001B[1;33m(\u001B[0m\u001B[1;34m'unequal length arrays'\u001B[0m\u001B[1;33m)\u001B[0m\u001B[1;33m\u001B[0m\u001B[1;33m\u001B[0m\u001B[0m\n\u001B[0m\u001B[0;32m   7708\u001B[0m \u001B[1;33m\u001B[0m\u001B[0m\n\u001B[0;32m   7709\u001B[0m     \u001B[1;32mif\u001B[0m \u001B[0mna\u001B[0m \u001B[1;33m==\u001B[0m \u001B[1;36m0\u001B[0m \u001B[1;32mor\u001B[0m \u001B[0mnb\u001B[0m \u001B[1;33m==\u001B[0m \u001B[1;36m0\u001B[0m\u001B[1;33m:\u001B[0m\u001B[1;33m\u001B[0m\u001B[1;33m\u001B[0m\u001B[0m\n\u001B[0;32m   7710\u001B[0m         \u001B[1;31m# _axis_nan_policy decorator ensures this only happens with 1d input\u001B[0m\u001B[1;33m\u001B[0m\u001B[1;33m\u001B[0m\u001B[0m\n",
      "\u001B[1;31mValueError\u001B[0m: unequal length arrays"
     ]
    }
   ],
   "execution_count": 2
  },
  {
   "cell_type": "code",
   "execution_count": null,
   "id": "23066d35594c4aaa",
   "metadata": {},
   "outputs": [],
   "source": []
  }
 ],
 "metadata": {
  "kernelspec": {
   "display_name": "Python 3 (ipykernel)",
   "language": "python",
   "name": "python3"
  },
  "language_info": {
   "codemirror_mode": {
    "name": "ipython",
    "version": 3
   },
   "file_extension": ".py",
   "mimetype": "text/x-python",
   "name": "python",
   "nbconvert_exporter": "python",
   "pygments_lexer": "ipython3",
   "version": "3.11.9"
  }
 },
 "nbformat": 4,
 "nbformat_minor": 5
}
