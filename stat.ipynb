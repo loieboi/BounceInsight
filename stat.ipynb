{
 "cells": [
  {
   "cell_type": "code",
   "execution_count": 2,
   "id": "initial_id",
   "metadata": {
    "ExecuteTime": {
     "end_time": "2024-08-01T11:45:58.557320Z",
     "start_time": "2024-08-01T11:45:55.536210Z"
    }
   },
   "outputs": [
    {
     "name": "stdout",
     "output_type": "stream",
     "text": [
      "Current Directory: C:\\Users\\timos\\Desktop\\BounceInsight\n",
      "Root Directory exists: C:\\Users\\timos\\Desktop\n",
      "Successfully imported BounceInsight\n"
     ]
    }
   ],
   "source": [
    "# This script is used to run the detection script in the BounceInsight module.\n",
    "import sys\n",
    "import os\n",
    "current_dir = os.path.dirname(os.path.abspath('__file__'))\n",
    "print(f'Current Directory: {current_dir}')\n",
    "root_dir = os.path.abspath(os.path.join(current_dir, '..'))\n",
    "\n",
    "if os.path.exists(root_dir):\n",
    "    print(f'Root Directory exists: {root_dir}')\n",
    "else:\n",
    "    print(f'Root Directory does NOT exist: {root_dir}')\n",
    "    \n",
    "\n",
    "if root_dir not in sys.path:\n",
    "    sys.path.append(root_dir)\n",
    "    \n",
    "try:\n",
    "    from BounceInsight import BounceInsight\n",
    "    print(\"Successfully imported BounceInsight\")\n",
    "except ModuleNotFoundError as e:\n",
    "    print(f\"BounceInsight module not found. Please check the module path. {e}\")\n",
    "except Exception as e:\n",
    "    print(f\"An unexpected error occurred: {e}\")\n",
    "    \n",
    "try:\n",
    "    %reload_ext autoreload\n",
    "except:\n",
    "    %load_ext autoreload\n",
    "\n",
    "%autoreload 2\n",
    "    \n",
    "csv_path = os.path.abspath(os.path.join(current_dir, 'files/loader'))\n",
    "insight = BounceInsight(csv_path, \"bounce\")"
   ]
  },
  {
   "cell_type": "code",
   "execution_count": 14,
   "id": "3486db63861c59ba",
   "metadata": {
    "ExecuteTime": {
     "end_time": "2024-08-01T11:46:09.091488Z",
     "start_time": "2024-08-01T11:46:07.425183Z"
    }
   },
   "outputs": [
    {
     "name": "stdout",
     "output_type": "stream",
     "text": [
      "Levene's test for homogeneity of variances: W=0.043, p-value=0.835\n",
      "Shapiro-Wilk test for normality (slowb): W=0.985, p-value=0.442\n",
      "Shapiro-Wilk test for normality (slownb): W=0.981, p-value=0.238\n",
      "Length of slowb: 86\n",
      "Length of slownb: 88\n",
      "Mismatching entries:\n",
      "slowb entries: ['03_slowb1', '03_slowb2', '03_slowb3', '14_slowb1', '14_slowb2', '14_slowb3', '35_slowb1', '35_slowb2', '35_slowb3', '40_slowb1', '40_slowb2', '40_slowb3', '15_slowb1', '15_slowb2', '15_slowb3', '24_slowb2', '24_slowb3', '24_slowb4', '33_slowb1', '33_slowb2', '33_slowb3', '32_slowb1', '32_slowb2', '32_slowb3', '26_slowb1', '26_slowb2', '26_slowb3', '13_slowb1', '13_slowb2', '13_slowb3', '09_slowb1', '09_slowb2', '09_slowb3', '39_slowb1', '39_slowb2', '39_slowb3', '12_slowb1', '12_slowb2', '12_slowb3', '36_slowb1', '36_slowb2', '36_slowb3', '21_slowb1', '21_slowb2', '21_slowb3', '34_slowb1', '34_slowb2', '34_slowb3', '38_slowb1', '38_slowb2', '38_slowb3', '22_slowb1', '22_slowb2', '22_slowb3', '08_slowb1', '08_slowb2', '08_slowb3', '19_slowb1', '19_slowb2', '19_slowb3', '10_slowb2', '10_slowb3', '05_slowb1', '05_slowb2', '05_slowb3', '23_slowb1', '23_slowb2', '23_slowb3', '07_slowb1', '07_slowb2', '07_slowb3', '04_slowb1', '04_slowb2', '04_slowb3', '02_slowb2', '02_slowb3', '02_slowb4', '27_slowb1', '27_slowb2', '27_slowb3', '17_slowb1', '17_slowb2', '17_slowb3', '29_slowb1', '29_slowb2', '29_slowb3']\n",
      "slownb entries: ['03_slownb1', '03_slownb2', '03_slownb3', '14_slownb1', '14_slownb2', '14_slownb3', '35_slownb1', '35_slownb2', '35_slownb3', '40_slownb1', '40_slownb2', '40_slownb3', '15_slownb1', '15_slownb2', '15_slownb3', '24_slownb1', '24_slownb2', '24_slownb3', '33_slownb1', '33_slownb2', '33_slownb3', '32_slownb1', '32_slownb2', '32_slownb3', '26_slownb1', '26_slownb2', '26_slownb3', '13_slownb1', '13_slownb2', '13_slownb3', '09_slownb1', '09_slownb2', '09_slownb3', '39_slownb1', '39_slownb2', '39_slownb3', '12_slownb1', '12_slownb2', '12_slownb3', '36_slownb1', '36_slownb2', '36_slownb3', '21_slownb1', '21_slownb2', '21_slownb3', '34_slownb1', '34_slownb2', '34_slownb3', '38_slownb1', '38_slownb2', '38_slownb3', '22_slownb1', '22_slownb2', '22_slownb3', '08_slownb1', '08_slownb2', '08_slownb3', '19_slownb1', '19_slownb2', '19_slownb3', '10_slownb1', '10_slownb2', '10_slownb3', '05_slownb1', '05_slownb2', '05_slownb3', '23_slownb1', '23_slownb2', '23_slownb3', '07_slownb1', '07_slownb2', '07_slownb3', '04_slownb1', '04_slownb2', '04_slownb3', '02_slownb1', '02_slownb2', '02_slownb3', '27_slownb1', '27_slownb2', '27_slownb3', '17_slownb1', '17_slownb2', '17_slownb3', '17_slownb4_nofp', '29_slownb1', '29_slownb2', '29_slownb3']\n"
     ]
    },
    {
     "ename": "ValueError",
     "evalue": "unequal length arrays",
     "output_type": "error",
     "traceback": [
      "\u001b[1;31m---------------------------------------------------------------------------\u001b[0m",
      "\u001b[1;31mValueError\u001b[0m                                Traceback (most recent call last)",
      "\u001b[1;32m~\\AppData\\Local\\Temp\\ipykernel_1668\\2905201823.py\u001b[0m in \u001b[0;36m?\u001b[1;34m()\u001b[0m\n\u001b[1;32m----> 1\u001b[1;33m \u001b[0minsight\u001b[0m\u001b[1;33m.\u001b[0m\u001b[0mrun_statistics\u001b[0m\u001b[1;33m(\u001b[0m\u001b[0manalysis_type\u001b[0m\u001b[1;33m=\u001b[0m\u001b[1;34m'ttest'\u001b[0m\u001b[1;33m,\u001b[0m \u001b[0mmetric\u001b[0m\u001b[1;33m=\u001b[0m\u001b[1;34m't_ecc'\u001b[0m\u001b[1;33m,\u001b[0m \u001b[0mcomparison_type\u001b[0m\u001b[1;33m=\u001b[0m\u001b[1;34m'b_nb_slow'\u001b[0m\u001b[1;33m,\u001b[0m \u001b[0mdf_type\u001b[0m\u001b[1;33m=\u001b[0m\u001b[1;34m'gym'\u001b[0m\u001b[1;33m)\u001b[0m\u001b[1;33m\u001b[0m\u001b[1;33m\u001b[0m\u001b[0m\n\u001b[0m",
      "\u001b[1;32m~\\Desktop\\BounceInsight\\__init__.py\u001b[0m in \u001b[0;36m?\u001b[1;34m(self, analysis_type, comparison_type, metric, metric1, metric2, bounce_type, df_type)\u001b[0m\n\u001b[0;32m    110\u001b[0m             \u001b[0mstat_analyser\u001b[0m\u001b[1;33m.\u001b[0m\u001b[0manalyze_statistics\u001b[0m\u001b[1;33m(\u001b[0m\u001b[0manalysis_type\u001b[0m\u001b[1;33m=\u001b[0m\u001b[0manalysis_type\u001b[0m\u001b[1;33m,\u001b[0m \u001b[0mmetric1\u001b[0m\u001b[1;33m=\u001b[0m\u001b[0mmetric1\u001b[0m\u001b[1;33m,\u001b[0m \u001b[0mmetric2\u001b[0m\u001b[1;33m=\u001b[0m\u001b[0mmetric2\u001b[0m\u001b[1;33m)\u001b[0m\u001b[1;33m\u001b[0m\u001b[1;33m\u001b[0m\u001b[0m\n\u001b[0;32m    111\u001b[0m         \u001b[1;32melif\u001b[0m \u001b[0manalysis_type\u001b[0m \u001b[1;33m==\u001b[0m \u001b[1;34m'summary'\u001b[0m\u001b[1;33m:\u001b[0m\u001b[1;33m\u001b[0m\u001b[1;33m\u001b[0m\u001b[0m\n\u001b[0;32m    112\u001b[0m             \u001b[0mstat_analyser\u001b[0m\u001b[1;33m.\u001b[0m\u001b[0manalyze_statistics\u001b[0m\u001b[1;33m(\u001b[0m\u001b[0manalysis_type\u001b[0m\u001b[1;33m=\u001b[0m\u001b[0manalysis_type\u001b[0m\u001b[1;33m,\u001b[0m \u001b[0mbounce_type\u001b[0m\u001b[1;33m=\u001b[0m\u001b[0mbounce_type\u001b[0m\u001b[1;33m)\u001b[0m\u001b[1;33m\u001b[0m\u001b[1;33m\u001b[0m\u001b[0m\n\u001b[0;32m    113\u001b[0m         \u001b[1;32melif\u001b[0m \u001b[0manalysis_type\u001b[0m \u001b[1;33m==\u001b[0m \u001b[1;34m'ttest'\u001b[0m\u001b[1;33m:\u001b[0m\u001b[1;33m\u001b[0m\u001b[1;33m\u001b[0m\u001b[0m\n\u001b[1;32m--> 114\u001b[1;33m             stat_analyser.analyze_statistics(analysis_type=analysis_type, metric=metric,\n\u001b[0m\u001b[0;32m    115\u001b[0m                                              comparison_type=comparison_type, df_type=df_type)\n\u001b[0;32m    116\u001b[0m         \u001b[1;32melse\u001b[0m\u001b[1;33m:\u001b[0m\u001b[1;33m\u001b[0m\u001b[1;33m\u001b[0m\u001b[0m\n\u001b[0;32m    117\u001b[0m             \u001b[0mstat_analyser\u001b[0m\u001b[1;33m.\u001b[0m\u001b[0manalyze_statistics\u001b[0m\u001b[1;33m(\u001b[0m\u001b[0manalysis_type\u001b[0m\u001b[1;33m=\u001b[0m\u001b[0manalysis_type\u001b[0m\u001b[1;33m)\u001b[0m\u001b[1;33m\u001b[0m\u001b[1;33m\u001b[0m\u001b[0m\n",
      "\u001b[1;32m~\\Desktop\\BounceInsight\\analyser\\stat_bounce_analyser.py\u001b[0m in \u001b[0;36m?\u001b[1;34m(self, analysis_type, comparison_type, metric, metric1, metric2, bounce_type, df_type)\u001b[0m\n\u001b[0;32m     61\u001b[0m             \u001b[1;32melse\u001b[0m\u001b[1;33m:\u001b[0m\u001b[1;33m\u001b[0m\u001b[1;33m\u001b[0m\u001b[0m\n\u001b[0;32m     62\u001b[0m                 \u001b[0mprint\u001b[0m\u001b[1;33m(\u001b[0m\u001b[1;34m\"For repeated measures ANOVA, please specify the metric.\"\u001b[0m\u001b[1;33m)\u001b[0m\u001b[1;33m\u001b[0m\u001b[1;33m\u001b[0m\u001b[0m\n\u001b[0;32m     63\u001b[0m         \u001b[1;32melif\u001b[0m \u001b[0manalysis_type\u001b[0m \u001b[1;33m==\u001b[0m \u001b[1;34m'ttest'\u001b[0m\u001b[1;33m:\u001b[0m\u001b[1;33m\u001b[0m\u001b[1;33m\u001b[0m\u001b[0m\n\u001b[0;32m     64\u001b[0m             \u001b[1;32mif\u001b[0m \u001b[0mmetric\u001b[0m \u001b[1;32mand\u001b[0m \u001b[0mcomparison_type\u001b[0m \u001b[1;32mand\u001b[0m \u001b[0mdf_type\u001b[0m \u001b[1;33m==\u001b[0m \u001b[1;34m'gym'\u001b[0m\u001b[1;33m:\u001b[0m\u001b[1;33m\u001b[0m\u001b[1;33m\u001b[0m\u001b[0m\n\u001b[1;32m---> 65\u001b[1;33m                 \u001b[0mself\u001b[0m\u001b[1;33m.\u001b[0m\u001b[0mpaired_ttest\u001b[0m\u001b[1;33m(\u001b[0m\u001b[0mdf_gym\u001b[0m\u001b[1;33m,\u001b[0m \u001b[0mmetric\u001b[0m\u001b[1;33m,\u001b[0m \u001b[0mcomparison_type\u001b[0m\u001b[1;33m)\u001b[0m\u001b[1;33m\u001b[0m\u001b[1;33m\u001b[0m\u001b[0m\n\u001b[0m\u001b[0;32m     66\u001b[0m             \u001b[1;32melif\u001b[0m \u001b[0mmetric\u001b[0m \u001b[1;32mand\u001b[0m \u001b[0mcomparison_type\u001b[0m \u001b[1;32mand\u001b[0m \u001b[0mdf_type\u001b[0m \u001b[1;33m==\u001b[0m \u001b[1;34m'fp'\u001b[0m\u001b[1;33m:\u001b[0m\u001b[1;33m\u001b[0m\u001b[1;33m\u001b[0m\u001b[0m\n\u001b[0;32m     67\u001b[0m                 \u001b[0mself\u001b[0m\u001b[1;33m.\u001b[0m\u001b[0mpaired_ttest\u001b[0m\u001b[1;33m(\u001b[0m\u001b[0mdf_fp\u001b[0m\u001b[1;33m,\u001b[0m \u001b[0mmetric\u001b[0m\u001b[1;33m,\u001b[0m \u001b[0mcomparison_type\u001b[0m\u001b[1;33m)\u001b[0m\u001b[1;33m\u001b[0m\u001b[1;33m\u001b[0m\u001b[0m\n\u001b[0;32m     68\u001b[0m             \u001b[1;32melse\u001b[0m\u001b[1;33m:\u001b[0m\u001b[1;33m\u001b[0m\u001b[1;33m\u001b[0m\u001b[0m\n",
      "\u001b[1;32m~\\Desktop\\BounceInsight\\analyser\\stat_bounce_analyser.py\u001b[0m in \u001b[0;36m?\u001b[1;34m(self, df, metric, comparison_type)\u001b[0m\n\u001b[0;32m    499\u001b[0m             \u001b[0mprint\u001b[0m\u001b[1;33m(\u001b[0m\u001b[1;34mf\"{group1} entries: {df_filtered[df_filtered['group'] == group1]['file_name'].tolist()}\"\u001b[0m\u001b[1;33m)\u001b[0m\u001b[1;33m\u001b[0m\u001b[1;33m\u001b[0m\u001b[0m\n\u001b[0;32m    500\u001b[0m             \u001b[0mprint\u001b[0m\u001b[1;33m(\u001b[0m\u001b[1;34mf\"{group2} entries: {df_filtered[df_filtered['group'] == group2]['file_name'].tolist()}\"\u001b[0m\u001b[1;33m)\u001b[0m\u001b[1;33m\u001b[0m\u001b[1;33m\u001b[0m\u001b[0m\n\u001b[0;32m    501\u001b[0m \u001b[1;33m\u001b[0m\u001b[0m\n\u001b[0;32m    502\u001b[0m         \u001b[1;32mif\u001b[0m \u001b[0mhomogeneity_passed\u001b[0m \u001b[1;32mand\u001b[0m \u001b[0mnormality_passed\u001b[0m\u001b[1;33m:\u001b[0m\u001b[1;33m\u001b[0m\u001b[1;33m\u001b[0m\u001b[0m\n\u001b[1;32m--> 503\u001b[1;33m             t_stat, p_value = stats.ttest_rel(df_filtered[df_filtered['group'] == group1][metric],\n\u001b[0m\u001b[0;32m    504\u001b[0m                                               df_filtered[df_filtered['group'] == group2][metric])\n\u001b[0;32m    505\u001b[0m             \u001b[0mprint\u001b[0m\u001b[1;33m(\u001b[0m\u001b[1;34mf\"Paired t-test results for {metric} comparing {group1} and {group2}:\"\u001b[0m\u001b[1;33m)\u001b[0m\u001b[1;33m\u001b[0m\u001b[1;33m\u001b[0m\u001b[0m\n\u001b[0;32m    506\u001b[0m             \u001b[0mprint\u001b[0m\u001b[1;33m(\u001b[0m\u001b[1;34mf\"T-statistic: {t_stat:.4f}, p-value: {p_value:.4f}\"\u001b[0m\u001b[1;33m)\u001b[0m\u001b[1;33m\u001b[0m\u001b[1;33m\u001b[0m\u001b[0m\n",
      "\u001b[1;32m~\\AppData\\Local\\Programs\\Python\\Python311\\Lib\\site-packages\\scipy\\stats\\_axis_nan_policy.py\u001b[0m in \u001b[0;36m?\u001b[1;34m(***failed resolving arguments***)\u001b[0m\n\u001b[0;32m    527\u001b[0m                 \u001b[1;31m# behavior of those would break backward compatibility.\u001b[0m\u001b[1;33m\u001b[0m\u001b[1;33m\u001b[0m\u001b[0m\n\u001b[0;32m    528\u001b[0m \u001b[1;33m\u001b[0m\u001b[0m\n\u001b[0;32m    529\u001b[0m                 \u001b[1;32mif\u001b[0m \u001b[0msentinel\u001b[0m\u001b[1;33m:\u001b[0m\u001b[1;33m\u001b[0m\u001b[1;33m\u001b[0m\u001b[0m\n\u001b[0;32m    530\u001b[0m                     \u001b[0msamples\u001b[0m \u001b[1;33m=\u001b[0m \u001b[0m_remove_sentinel\u001b[0m\u001b[1;33m(\u001b[0m\u001b[0msamples\u001b[0m\u001b[1;33m,\u001b[0m \u001b[0mpaired\u001b[0m\u001b[1;33m,\u001b[0m \u001b[0msentinel\u001b[0m\u001b[1;33m)\u001b[0m\u001b[1;33m\u001b[0m\u001b[1;33m\u001b[0m\u001b[0m\n\u001b[1;32m--> 531\u001b[1;33m                 \u001b[0mres\u001b[0m \u001b[1;33m=\u001b[0m \u001b[0mhypotest_fun_out\u001b[0m\u001b[1;33m(\u001b[0m\u001b[1;33m*\u001b[0m\u001b[0msamples\u001b[0m\u001b[1;33m,\u001b[0m \u001b[1;33m**\u001b[0m\u001b[0mkwds\u001b[0m\u001b[1;33m)\u001b[0m\u001b[1;33m\u001b[0m\u001b[1;33m\u001b[0m\u001b[0m\n\u001b[0m\u001b[0;32m    532\u001b[0m                 \u001b[0mres\u001b[0m \u001b[1;33m=\u001b[0m \u001b[0mresult_to_tuple\u001b[0m\u001b[1;33m(\u001b[0m\u001b[0mres\u001b[0m\u001b[1;33m)\u001b[0m\u001b[1;33m\u001b[0m\u001b[1;33m\u001b[0m\u001b[0m\n\u001b[0;32m    533\u001b[0m                 \u001b[0mres\u001b[0m \u001b[1;33m=\u001b[0m \u001b[0m_add_reduced_axes\u001b[0m\u001b[1;33m(\u001b[0m\u001b[0mres\u001b[0m\u001b[1;33m,\u001b[0m \u001b[0mreduced_axes\u001b[0m\u001b[1;33m,\u001b[0m \u001b[0mkeepdims\u001b[0m\u001b[1;33m)\u001b[0m\u001b[1;33m\u001b[0m\u001b[1;33m\u001b[0m\u001b[0m\n\u001b[0;32m    534\u001b[0m                 \u001b[1;32mreturn\u001b[0m \u001b[0mtuple_to_result\u001b[0m\u001b[1;33m(\u001b[0m\u001b[1;33m*\u001b[0m\u001b[0mres\u001b[0m\u001b[1;33m)\u001b[0m\u001b[1;33m\u001b[0m\u001b[1;33m\u001b[0m\u001b[0m\n",
      "\u001b[1;32m~\\AppData\\Local\\Programs\\Python\\Python311\\Lib\\site-packages\\scipy\\stats\\_stats_py.py\u001b[0m in \u001b[0;36m?\u001b[1;34m(a, b, axis, nan_policy, alternative)\u001b[0m\n\u001b[0;32m   7703\u001b[0m \u001b[1;33m\u001b[0m\u001b[0m\n\u001b[0;32m   7704\u001b[0m     \u001b[0mna\u001b[0m \u001b[1;33m=\u001b[0m \u001b[0m_get_len\u001b[0m\u001b[1;33m(\u001b[0m\u001b[0ma\u001b[0m\u001b[1;33m,\u001b[0m \u001b[0maxis\u001b[0m\u001b[1;33m,\u001b[0m \u001b[1;34m\"first argument\"\u001b[0m\u001b[1;33m)\u001b[0m\u001b[1;33m\u001b[0m\u001b[1;33m\u001b[0m\u001b[0m\n\u001b[0;32m   7705\u001b[0m     \u001b[0mnb\u001b[0m \u001b[1;33m=\u001b[0m \u001b[0m_get_len\u001b[0m\u001b[1;33m(\u001b[0m\u001b[0mb\u001b[0m\u001b[1;33m,\u001b[0m \u001b[0maxis\u001b[0m\u001b[1;33m,\u001b[0m \u001b[1;34m\"second argument\"\u001b[0m\u001b[1;33m)\u001b[0m\u001b[1;33m\u001b[0m\u001b[1;33m\u001b[0m\u001b[0m\n\u001b[0;32m   7706\u001b[0m     \u001b[1;32mif\u001b[0m \u001b[0mna\u001b[0m \u001b[1;33m!=\u001b[0m \u001b[0mnb\u001b[0m\u001b[1;33m:\u001b[0m\u001b[1;33m\u001b[0m\u001b[1;33m\u001b[0m\u001b[0m\n\u001b[1;32m-> 7707\u001b[1;33m         \u001b[1;32mraise\u001b[0m \u001b[0mValueError\u001b[0m\u001b[1;33m(\u001b[0m\u001b[1;34m'unequal length arrays'\u001b[0m\u001b[1;33m)\u001b[0m\u001b[1;33m\u001b[0m\u001b[1;33m\u001b[0m\u001b[0m\n\u001b[0m\u001b[0;32m   7708\u001b[0m \u001b[1;33m\u001b[0m\u001b[0m\n\u001b[0;32m   7709\u001b[0m     \u001b[1;32mif\u001b[0m \u001b[0mna\u001b[0m \u001b[1;33m==\u001b[0m \u001b[1;36m0\u001b[0m \u001b[1;32mor\u001b[0m \u001b[0mnb\u001b[0m \u001b[1;33m==\u001b[0m \u001b[1;36m0\u001b[0m\u001b[1;33m:\u001b[0m\u001b[1;33m\u001b[0m\u001b[1;33m\u001b[0m\u001b[0m\n\u001b[0;32m   7710\u001b[0m         \u001b[1;31m# _axis_nan_policy decorator ensures this only happens with 1d input\u001b[0m\u001b[1;33m\u001b[0m\u001b[1;33m\u001b[0m\u001b[0m\n",
      "\u001b[1;31mValueError\u001b[0m: unequal length arrays"
     ]
    }
   ],
   "source": [
    "insight.run_statistics(analysis_type='ttest', metric='t_ecc', comparison_type='b_nb_slow', df_type='gym')"
   ]
  },
  {
   "cell_type": "code",
   "execution_count": null,
   "id": "23066d35594c4aaa",
   "metadata": {},
   "outputs": [],
   "source": []
  }
 ],
 "metadata": {
  "kernelspec": {
   "display_name": "Python 3 (ipykernel)",
   "language": "python",
   "name": "python3"
  },
  "language_info": {
   "codemirror_mode": {
    "name": "ipython",
    "version": 3
   },
   "file_extension": ".py",
   "mimetype": "text/x-python",
   "name": "python",
   "nbconvert_exporter": "python",
   "pygments_lexer": "ipython3",
   "version": "3.11.9"
  }
 },
 "nbformat": 4,
 "nbformat_minor": 5
}
