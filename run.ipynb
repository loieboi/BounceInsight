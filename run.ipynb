{
 "cells": [
  {
   "cell_type": "code",
   "id": "e0394461f5007cf3",
   "metadata": {
    "scrolled": true,
    "ExecuteTime": {
     "end_time": "2024-07-09T13:16:28.698907Z",
     "start_time": "2024-07-09T13:16:26.966847Z"
    }
   },
   "source": [
    "# This script is used to run the detection script in the VBT module.\n",
    "import sys\n",
    "import os\n",
    "current_dir = os.path.dirname(os.path.abspath('__file__'))\n",
    "print(f'Current Directory: {current_dir}')\n",
    "root_dir = os.path.abspath(os.path.join(current_dir, '..'))\n",
    "\n",
    "if os.path.exists(root_dir):\n",
    "    print(f'Root Directory exists: {root_dir}')\n",
    "else:\n",
    "    print(f'Root Directory does NOT exist: {root_dir}')\n",
    "\n",
    "if root_dir not in sys.path:\n",
    "    sys.path.append(root_dir)\n",
    "    print(f'Added {root_dir} to sys.path')\n",
    "\n",
    "\n",
    "try:\n",
    "    from BounceInsight import BounceInsight\n",
    "    print(\"Successfully imported BounceInsight\")\n",
    "except ModuleNotFoundError:\n",
    "    print(\"VBT module not found. Please check the module path.\")\n",
    "except Exception as e:\n",
    "    print(f\"An unexpected error occurred: {e}\")\n",
    "    \n",
    "try:\n",
    "    %reload_ext autoreload\n",
    "except:\n",
    "    %load_ext autoreload\n",
    "\n",
    "%autoreload 2\n",
    "    \n",
    "csv_path = os.path.abspath(os.path.join(current_dir, 'files/loader'))\n",
    "boin = BounceInsight(csv_path, \"bounce\")"
   ],
   "outputs": [
    {
     "name": "stdout",
     "output_type": "stream",
     "text": [
      "Current Directory: C:\\Users\\timos\\Desktop\\BounceInsight\n",
      "Root Directory exists: C:\\Users\\timos\\Desktop\n",
      "Added C:\\Users\\timos\\Desktop to sys.path\n",
      "Successfully imported BounceInsight\n"
     ]
    }
   ],
   "execution_count": 1
  },
  {
   "cell_type": "code",
   "id": "8139fdb47dbd8b39",
   "metadata": {
    "ExecuteTime": {
     "end_time": "2024-07-09T13:17:05.469385Z",
     "start_time": "2024-07-09T13:16:30.298858Z"
    }
   },
   "source": "boin.analyse_bounce(id=None, plot=False)",
   "outputs": [
    {
     "name": "stderr",
     "output_type": "stream",
     "text": [
      "Finished 10_slownb3.csv:  25%|\u001B[31m██▌       \u001B[0m| 196/781 [00:06<00:19, 30.69it/s]      "
     ]
    },
    {
     "name": "stdout",
     "output_type": "stream",
     "text": [
      "No turning point detected for file 10_fastnb3.csv. Skipping...\n"
     ]
    },
    {
     "name": "stderr",
     "output_type": "stream",
     "text": [
      "Finished 38_slowb3.csv:  93%|\u001B[31m█████████▎\u001B[0m| 727/781 [00:23<00:01, 31.28it/s]       "
     ]
    },
    {
     "name": "stdout",
     "output_type": "stream",
     "text": [
      "No turning point detected for file 38_fastnb1.csv. Skipping...\n"
     ]
    },
    {
     "name": "stderr",
     "output_type": "stream",
     "text": [
      "Finished 40_slownb3.csv: 100%|\u001B[31m██████████\u001B[0m| 781/781 [00:25<00:00, 30.49it/s]      \n"
     ]
    },
    {
     "name": "stdout",
     "output_type": "stream",
     "text": [
      "Number of bounce files in bounce_dict_70: 111\n",
      "Number of bounce files in no_bounce_dict_70: 108\n",
      "Number of bounce files in bounce_dict_80: 108\n",
      "Number of bounce files in no_bounce_dict_80: 108\n",
      "Number of bounce files in bounce_dict_slow: 86\n",
      "Number of bounce files in no_bounce_dict_slow: 84\n",
      "Number of bounce files in bounce_dict_fast: 88\n",
      "Number of bounce files in no_bounce_dict_fast: 88\n"
     ]
    }
   ],
   "execution_count": 2
  },
  {
   "cell_type": "code",
   "execution_count": null,
   "id": "84b6e693a7f79bd8",
   "metadata": {},
   "outputs": [],
   "source": []
  }
 ],
 "metadata": {
  "kernelspec": {
   "display_name": "Python 3 (ipykernel)",
   "language": "python",
   "name": "python3"
  },
  "language_info": {
   "codemirror_mode": {
    "name": "ipython",
    "version": 3
   },
   "file_extension": ".py",
   "mimetype": "text/x-python",
   "name": "python",
   "nbconvert_exporter": "python",
   "pygments_lexer": "ipython3",
   "version": "3.11.9"
  }
 },
 "nbformat": 4,
 "nbformat_minor": 5
}
