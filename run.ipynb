{
 "cells": [
  {
   "cell_type": "code",
   "id": "e0394461f5007cf3",
   "metadata": {
    "scrolled": true,
    "ExecuteTime": {
     "end_time": "2024-07-09T12:30:40.140970Z",
     "start_time": "2024-07-09T12:30:39.699674Z"
    }
   },
   "source": [
    "# This script is used to run the detection script in the VBT module.\n",
    "import sys\n",
    "import os\n",
    "current_dir = os.path.dirname(os.path.abspath('__file__'))\n",
    "print(f'Current Directory: {current_dir}')\n",
    "root_dir = os.path.abspath(os.path.join(current_dir, '..'))\n",
    "\n",
    "if os.path.exists(root_dir):\n",
    "    print(f'Root Directory exists: {root_dir}')\n",
    "else:\n",
    "    print(f'Root Directory does NOT exist: {root_dir}')\n",
    "\n",
    "if root_dir not in sys.path:\n",
    "    sys.path.append(root_dir)\n",
    "    print(f'Added {root_dir} to sys.path')\n",
    "\n",
    "\n",
    "try:\n",
    "    from BounceInsight import BounceInsight\n",
    "    print(\"Successfully imported BounceInsight\")\n",
    "except ModuleNotFoundError:\n",
    "    print(\"VBT module not found. Please check the module path.\")\n",
    "except Exception as e:\n",
    "    print(f\"An unexpected error occurred: {e}\")\n",
    "    \n",
    "try:\n",
    "    %reload_ext autoreload\n",
    "except:\n",
    "    %load_ext autoreload\n",
    "\n",
    "%autoreload 2\n",
    "    \n",
    "csv_path = os.path.abspath(os.path.join(current_dir, 'files/loader'))\n",
    "boin = BounceInsight(csv_path, \"bounce\")"
   ],
   "outputs": [
    {
     "name": "stdout",
     "output_type": "stream",
     "text": [
      "Current Directory: C:\\Users\\timos\\Desktop\\BounceInsight\n",
      "Root Directory exists: C:\\Users\\timos\\Desktop\n",
      "Successfully imported BounceInsight\n"
     ]
    }
   ],
   "execution_count": 6
  },
  {
   "cell_type": "code",
   "id": "8139fdb47dbd8b39",
   "metadata": {
    "ExecuteTime": {
     "end_time": "2024-07-09T13:02:52.773908Z",
     "start_time": "2024-07-09T13:02:22.301049Z"
    }
   },
   "source": "boin.analyse_bounce(id=None, plot=False)",
   "outputs": [
    {
     "name": "stderr",
     "output_type": "stream",
     "text": [
      "Processing 12_bounce70b1.csv:  26%|\u001B[31m██▌       \u001B[0m| 200/781 [00:05<00:15, 36.89it/s] "
     ]
    },
    {
     "name": "stdout",
     "output_type": "stream",
     "text": [
      "No turning point detected for file 10_fastnb3.csv. Skipping...\n"
     ]
    },
    {
     "name": "stderr",
     "output_type": "stream",
     "text": [
      "Finished 38_slownb1.csv:  93%|\u001B[31m█████████▎\u001B[0m| 728/781 [00:20<00:01, 35.66it/s]      "
     ]
    },
    {
     "name": "stdout",
     "output_type": "stream",
     "text": [
      "No turning point detected for file 38_fastnb1.csv. Skipping...\n"
     ]
    },
    {
     "name": "stderr",
     "output_type": "stream",
     "text": [
      "Finished 40_slownb3.csv: 100%|\u001B[31m██████████\u001B[0m| 781/781 [00:22<00:00, 35.21it/s]      \n"
     ]
    },
    {
     "name": "stdout",
     "output_type": "stream",
     "text": [
      "Number of bounce files in bounce_dict_70: 111\n",
      "Number of bounce files in no_bounce_dict_70: 108\n",
      "Number of bounce files in bounce_dict_80: 108\n",
      "Number of bounce files in no_bounce_dict_80: 108\n",
      "Number of bounce files in bounce_dict_slow: 86\n",
      "Number of bounce files in no_bounce_dict_slow: 84\n",
      "Number of bounce files in bounce_dict_fast: 88\n",
      "Number of bounce files in no_bounce_dict_fast: 88\n"
     ]
    }
   ],
   "execution_count": 18
  },
  {
   "cell_type": "code",
   "execution_count": null,
   "id": "84b6e693a7f79bd8",
   "metadata": {},
   "outputs": [],
   "source": []
  }
 ],
 "metadata": {
  "kernelspec": {
   "display_name": "Python 3 (ipykernel)",
   "language": "python",
   "name": "python3"
  },
  "language_info": {
   "codemirror_mode": {
    "name": "ipython",
    "version": 3
   },
   "file_extension": ".py",
   "mimetype": "text/x-python",
   "name": "python",
   "nbconvert_exporter": "python",
   "pygments_lexer": "ipython3",
   "version": "3.11.9"
  }
 },
 "nbformat": 4,
 "nbformat_minor": 5
}
